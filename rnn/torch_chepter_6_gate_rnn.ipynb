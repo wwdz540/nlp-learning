{
 "cells": [
  {
   "cell_type": "markdown",
   "metadata": {},
   "source": [
    "# GateRNN\n",
    "本篇主要是想利用pytorch复现《深度学习进阶--自然语言处理》第六章内容，读取数据分析结果依旧用书中代码。\n",
    "RNN部分主要参考 \n",
    "https://pytorch.org/tutorials/intermediate/seq2seq_translation_tutorial.html\n",
    "\n",
    "GRU文档：https://pytorch.org/docs/stable/generated/torch.nn.GRU.html#torch.nn.GRU\n"
   ]
  },
  {
   "cell_type": "markdown",
   "metadata": {},
   "source": [
    "## 模型创建"
   ]
  },
  {
   "cell_type": "code",
   "execution_count": 85,
   "metadata": {},
   "outputs": [
    {
     "data": {
      "text/plain": [
       "tensor(3.9122, grad_fn=<NllLossBackward0>)"
      ]
     },
     "execution_count": 85,
     "metadata": {},
     "output_type": "execute_result"
    }
   ],
   "source": [
    "import torch\n",
    "import torch.nn as nn\n",
    "\n",
    "class Rnnlm(nn.Module):\n",
    "    def __init__(self,vocab_size=10000,wordvec_size=1000):\n",
    "        super(Rnnlm,self).__init__()\n",
    "        self.embedding = nn.Embedding(vocab_size,wordvec_size)\n",
    "        self.gru = nn.GRU(wordvec_size,wordvec_size,batch_first=True)\n",
    "        self.affine = nn.Linear(wordvec_size,vocab_size)\n",
    "        self.softmax = nn.Softmax(dim=-1)\n",
    "        self.flatten = nn.Flatten(0,-2)\n",
    "\n",
    "    def forward(self,input,hidden):\n",
    "        embeded = self.embedding(input)\n",
    "        output = embeded\n",
    "\n",
    "\n",
    "        output, hidden = self.gru(output,hidden)\n",
    "        output = self.affine(output)\n",
    "        output = self.softmax(output)\n",
    "        output = self.flatten(output)\n",
    "        return output,hidden\n",
    "\n",
    "\n",
    "    ## 测试模型\n",
    "x  = [\n",
    "        [1,1,1,2],\n",
    "        [5,6,7,8],\n",
    "        [9,10,11,12]\n",
    "    ]\n",
    "\n",
    "x = torch.Tensor(x).long()\n",
    "\n",
    "input = x[:,1:]\n",
    "target =x[:,0:-1]\n",
    "\n",
    "\n",
    "\n",
    "\n",
    "\n",
    "#hiden = torch.zeros((1,3,5),dtype=torch.float32)\n",
    "hidden = None\n",
    "\n",
    "\n",
    "tmodel = Rnnlm(50,5)\n",
    "out ,hidden= tmodel(input,hidden)\n",
    "\n",
    "target = torch.flatten(target)\n",
    "\n",
    "criterion = torch.nn.CrossEntropyLoss()\n",
    "criterion(out,target)\n",
    "\n",
    "# print(f\"out.shape:{out.size()}\")\n",
    "\n",
    "# softmax = nn.Softmax(dim=-1)\n",
    "# test = torch.zeros((2,5,4),dtype=torch.float32)\n",
    "# test[:,:,3] = 1\n",
    "\n",
    "# test[0,2,0] = 3\n",
    "# print(test)\n",
    "# print(softmax(test))\n",
    "\n"
   ]
  },
  {
   "cell_type": "code",
   "execution_count": 91,
   "metadata": {},
   "outputs": [],
   "source": [
    "\n",
    "## 训练模型\n",
    "def train(model:Rnnlm,criterion,optimizer,input,target,h = None):\n",
    "    optimizer.zero_grad()\n",
    "    pred ,h = model(input,h)\n",
    "    loss = criterion(pred,target)\n",
    "    loss.backward()\n",
    "    optimizer.step()\n",
    "\n",
    "    return loss,h\n"
   ]
  },
  {
   "cell_type": "markdown",
   "metadata": {},
   "source": [
    "## 加载数据\n"
   ]
  },
  {
   "cell_type": "markdown",
   "metadata": {},
   "source": [
    "### colab加载主公共模块"
   ]
  },
  {
   "cell_type": "code",
   "execution_count": null,
   "metadata": {},
   "outputs": [],
   "source": [
    "from google.colab import drive\n",
    "drive.mount('/content/drive')\n",
    "\n",
    "import sys\n",
    "sys.path.append(\"/content/drive/MyDrive/ml/nlp/\")"
   ]
  },
  {
   "cell_type": "markdown",
   "metadata": {},
   "source": [
    "### 本机环境中用当前前目录"
   ]
  },
  {
   "cell_type": "code",
   "execution_count": 48,
   "metadata": {},
   "outputs": [],
   "source": [
    "import sys\n",
    "sys.path.append(\"../\")"
   ]
  },
  {
   "cell_type": "code",
   "execution_count": null,
   "metadata": {},
   "outputs": [],
   "source": []
  },
  {
   "cell_type": "code",
   "execution_count": 94,
   "metadata": {},
   "outputs": [
    {
     "name": "stdout",
     "output_type": "stream",
     "text": [
      "corpus size 1000 ,vocabulary size : 10000, \n",
      "vocab_size = 10000 wordvec_size= 100 hidden_size = 100\n"
     ]
    },
    {
     "ename": "KeyboardInterrupt",
     "evalue": "",
     "output_type": "error",
     "traceback": [
      "\u001b[0;31m---------------------------------------------------------------------------\u001b[0m",
      "\u001b[0;31mKeyboardInterrupt\u001b[0m                         Traceback (most recent call last)",
      "\u001b[1;32m/Users/wzp/Workspace/learn/nlm-learning/rnn/torch_chepter_6_gate_rnn.ipynb Cell 11'\u001b[0m in \u001b[0;36m<cell line: 55>\u001b[0;34m()\u001b[0m\n\u001b[1;32m     <a href='vscode-notebook-cell:/Users/wzp/Workspace/learn/nlm-learning/rnn/torch_chepter_6_gate_rnn.ipynb#ch0000005?line=73'>74</a>\u001b[0m batch_t \u001b[39m=\u001b[39m torch\u001b[39m.\u001b[39mfrom_numpy(batch_t)\u001b[39m.\u001b[39mto(device\u001b[39m=\u001b[39mdevice)\n\u001b[1;32m     <a href='vscode-notebook-cell:/Users/wzp/Workspace/learn/nlm-learning/rnn/torch_chepter_6_gate_rnn.ipynb#ch0000005?line=76'>77</a>\u001b[0m h \u001b[39m=\u001b[39m \u001b[39mNone\u001b[39;00m\n\u001b[0;32m---> <a href='vscode-notebook-cell:/Users/wzp/Workspace/learn/nlm-learning/rnn/torch_chepter_6_gate_rnn.ipynb#ch0000005?line=78'>79</a>\u001b[0m loss , h \u001b[39m=\u001b[39m train(model,criterion,optimizer,batch_x,batch_t,h)\n",
      "\u001b[1;32m/Users/wzp/Workspace/learn/nlm-learning/rnn/torch_chepter_6_gate_rnn.ipynb Cell 4'\u001b[0m in \u001b[0;36mtrain\u001b[0;34m(model, criterion, optimizer, input, target, h)\u001b[0m\n\u001b[1;32m      <a href='vscode-notebook-cell:/Users/wzp/Workspace/learn/nlm-learning/rnn/torch_chepter_6_gate_rnn.ipynb#ch0000015?line=3'>4</a>\u001b[0m pred ,h \u001b[39m=\u001b[39m model(\u001b[39minput\u001b[39m,h)\n\u001b[1;32m      <a href='vscode-notebook-cell:/Users/wzp/Workspace/learn/nlm-learning/rnn/torch_chepter_6_gate_rnn.ipynb#ch0000015?line=4'>5</a>\u001b[0m loss \u001b[39m=\u001b[39m criterion(pred,target)\n\u001b[0;32m----> <a href='vscode-notebook-cell:/Users/wzp/Workspace/learn/nlm-learning/rnn/torch_chepter_6_gate_rnn.ipynb#ch0000015?line=5'>6</a>\u001b[0m loss\u001b[39m.\u001b[39;49mbackward()\n\u001b[1;32m      <a href='vscode-notebook-cell:/Users/wzp/Workspace/learn/nlm-learning/rnn/torch_chepter_6_gate_rnn.ipynb#ch0000015?line=6'>7</a>\u001b[0m optimizer\u001b[39m.\u001b[39mstep()\n\u001b[1;32m      <a href='vscode-notebook-cell:/Users/wzp/Workspace/learn/nlm-learning/rnn/torch_chepter_6_gate_rnn.ipynb#ch0000015?line=8'>9</a>\u001b[0m \u001b[39mreturn\u001b[39;00m loss,h\n",
      "File \u001b[0;32m~/opt/anaconda3/envs/language/lib/python3.8/site-packages/torch/_tensor.py:363\u001b[0m, in \u001b[0;36mTensor.backward\u001b[0;34m(self, gradient, retain_graph, create_graph, inputs)\u001b[0m\n\u001b[1;32m    <a href='file:///Users/wzp/opt/anaconda3/envs/language/lib/python3.8/site-packages/torch/_tensor.py?line=353'>354</a>\u001b[0m \u001b[39mif\u001b[39;00m has_torch_function_unary(\u001b[39mself\u001b[39m):\n\u001b[1;32m    <a href='file:///Users/wzp/opt/anaconda3/envs/language/lib/python3.8/site-packages/torch/_tensor.py?line=354'>355</a>\u001b[0m     \u001b[39mreturn\u001b[39;00m handle_torch_function(\n\u001b[1;32m    <a href='file:///Users/wzp/opt/anaconda3/envs/language/lib/python3.8/site-packages/torch/_tensor.py?line=355'>356</a>\u001b[0m         Tensor\u001b[39m.\u001b[39mbackward,\n\u001b[1;32m    <a href='file:///Users/wzp/opt/anaconda3/envs/language/lib/python3.8/site-packages/torch/_tensor.py?line=356'>357</a>\u001b[0m         (\u001b[39mself\u001b[39m,),\n\u001b[0;32m   (...)\u001b[0m\n\u001b[1;32m    <a href='file:///Users/wzp/opt/anaconda3/envs/language/lib/python3.8/site-packages/torch/_tensor.py?line=360'>361</a>\u001b[0m         create_graph\u001b[39m=\u001b[39mcreate_graph,\n\u001b[1;32m    <a href='file:///Users/wzp/opt/anaconda3/envs/language/lib/python3.8/site-packages/torch/_tensor.py?line=361'>362</a>\u001b[0m         inputs\u001b[39m=\u001b[39minputs)\n\u001b[0;32m--> <a href='file:///Users/wzp/opt/anaconda3/envs/language/lib/python3.8/site-packages/torch/_tensor.py?line=362'>363</a>\u001b[0m torch\u001b[39m.\u001b[39;49mautograd\u001b[39m.\u001b[39;49mbackward(\u001b[39mself\u001b[39;49m, gradient, retain_graph, create_graph, inputs\u001b[39m=\u001b[39;49minputs)\n",
      "File \u001b[0;32m~/opt/anaconda3/envs/language/lib/python3.8/site-packages/torch/autograd/__init__.py:173\u001b[0m, in \u001b[0;36mbackward\u001b[0;34m(tensors, grad_tensors, retain_graph, create_graph, grad_variables, inputs)\u001b[0m\n\u001b[1;32m    <a href='file:///Users/wzp/opt/anaconda3/envs/language/lib/python3.8/site-packages/torch/autograd/__init__.py?line=167'>168</a>\u001b[0m     retain_graph \u001b[39m=\u001b[39m create_graph\n\u001b[1;32m    <a href='file:///Users/wzp/opt/anaconda3/envs/language/lib/python3.8/site-packages/torch/autograd/__init__.py?line=169'>170</a>\u001b[0m \u001b[39m# The reason we repeat same the comment below is that\u001b[39;00m\n\u001b[1;32m    <a href='file:///Users/wzp/opt/anaconda3/envs/language/lib/python3.8/site-packages/torch/autograd/__init__.py?line=170'>171</a>\u001b[0m \u001b[39m# some Python versions print out the first line of a multi-line function\u001b[39;00m\n\u001b[1;32m    <a href='file:///Users/wzp/opt/anaconda3/envs/language/lib/python3.8/site-packages/torch/autograd/__init__.py?line=171'>172</a>\u001b[0m \u001b[39m# calls in the traceback and some print out the last line\u001b[39;00m\n\u001b[0;32m--> <a href='file:///Users/wzp/opt/anaconda3/envs/language/lib/python3.8/site-packages/torch/autograd/__init__.py?line=172'>173</a>\u001b[0m Variable\u001b[39m.\u001b[39;49m_execution_engine\u001b[39m.\u001b[39;49mrun_backward(  \u001b[39m# Calls into the C++ engine to run the backward pass\u001b[39;49;00m\n\u001b[1;32m    <a href='file:///Users/wzp/opt/anaconda3/envs/language/lib/python3.8/site-packages/torch/autograd/__init__.py?line=173'>174</a>\u001b[0m     tensors, grad_tensors_, retain_graph, create_graph, inputs,\n\u001b[1;32m    <a href='file:///Users/wzp/opt/anaconda3/envs/language/lib/python3.8/site-packages/torch/autograd/__init__.py?line=174'>175</a>\u001b[0m     allow_unreachable\u001b[39m=\u001b[39;49m\u001b[39mTrue\u001b[39;49;00m, accumulate_grad\u001b[39m=\u001b[39;49m\u001b[39mTrue\u001b[39;49;00m)\n",
      "\u001b[0;31mKeyboardInterrupt\u001b[0m: "
     ]
    }
   ],
   "source": [
    "\n",
    "\n",
    "import sys\n",
    "\n",
    "import matplotlib.pyplot as plt\n",
    "import numpy as np\n",
    "from common.optimizer import SGD\n",
    "from dataset import ptb\n",
    "\n",
    "\n",
    "\n",
    "batch_size = 500\n",
    "wordvec_size = 100\n",
    "hidden_size=100\n",
    "time_size = 10\n",
    "lr = 0.1\n",
    "max_epoch = 100\n",
    "\n",
    "\n",
    "corpus , word_to_id,id_to_word = ptb.load_data('train')\n",
    "corpus_size = 1000\n",
    "\n",
    "\n",
    "#corpus = corpus[:corpus_size]\n",
    "vocab_size = len(word_to_id)\n",
    "xs = corpus[:-1]\n",
    "ts = corpus[1:]\n",
    "\n",
    "\n",
    "data_size = len(corpus)\n",
    "print(\"corpus size %d ,vocabulary size : %d, \" % (corpus_size,vocab_size))\n",
    "\n",
    "max_iters = data_size // (batch_size * time_size)\n",
    "time_idx = 0\n",
    "total_loss = 0\n",
    "\n",
    "\n",
    "loss_cout = 0\n",
    "ppl_list = []\n",
    "\n",
    "\n",
    "print(f\"vocab_size = {vocab_size} wordvec_size= {wordvec_size} hidden_size = {hidden_size}\")\n",
    "\n",
    "\n",
    "\n",
    "device = torch.device('cuda:0' if torch.cuda.is_available() else 'cpu')\n",
    "\n",
    "model = Rnnlm(vocab_size,wordvec_size)\n",
    "model.to(device=device)\n",
    "\n",
    "optimizer = torch.optim.Adadelta(model.parameters(), lr=1e-2)\n",
    "\n",
    "criterion = torch.nn.CrossEntropyLoss()\n",
    "\n",
    "\n",
    "model.train()\n",
    "for epoch in range(max_epoch):\n",
    "\n",
    "    \n",
    "   \n",
    "    for  iter in range(max_iters):\n",
    "\n",
    "\n",
    "        start_idx = iter * (batch_size * time_size)\n",
    "        end_idx = (iter + 1) * (batch_size * time_size)\n",
    "\n",
    "        batch_x = xs[start_idx:end_idx]\n",
    "        batch_t = ts[start_idx:end_idx]\n",
    "\n",
    " \n",
    "        batch_x = batch_x.reshape(batch_size,time_size) \n",
    "        #batch_t = batch_t.reshape(batch_size,time_size)\n",
    "\n",
    "\n",
    "        batch_x = torch.from_numpy(batch_x).to(device=device)\n",
    "        batch_t = torch.from_numpy(batch_t).to(device=device)\n",
    "\n",
    "\n",
    "        h = None\n",
    "\n",
    "        loss , h = train(model,criterion,optimizer,batch_x,batch_t,h)\n",
    "\n",
    "\n",
    "\n",
    "    \n",
    "        \n",
    "\n"
   ]
  },
  {
   "cell_type": "markdown",
   "metadata": {},
   "source": [
    "## 训练数据读取\n",
    "\n",
    "\n",
    "\n"
   ]
  },
  {
   "cell_type": "code",
   "execution_count": null,
   "metadata": {},
   "outputs": [],
   "source": []
  }
 ],
 "metadata": {
  "interpreter": {
   "hash": "fe85713bd73e29e553e0fe93aab7a5c1beebd30dbde9209efd93f425af696249"
  },
  "kernelspec": {
   "display_name": "Python 3.8.12 ('language')",
   "language": "python",
   "name": "python3"
  },
  "language_info": {
   "codemirror_mode": {
    "name": "ipython",
    "version": 3
   },
   "file_extension": ".py",
   "mimetype": "text/x-python",
   "name": "python",
   "nbconvert_exporter": "python",
   "pygments_lexer": "ipython3",
   "version": "3.8.12"
  },
  "orig_nbformat": 4
 },
 "nbformat": 4,
 "nbformat_minor": 2
}
