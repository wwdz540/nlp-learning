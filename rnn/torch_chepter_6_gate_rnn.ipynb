{
  "cells": [
    {
      "cell_type": "markdown",
      "metadata": {
        "id": "9V-CV84lfOZ3"
      },
      "source": [
        "# GateRNN\n",
        "本篇主要是想利用pytorch复现《深度学习进阶--自然语言处理》第六章内容，读取数据分析结果依旧用书中代码。\n",
        "RNN部分主要参考 \n",
        "https://pytorch.org/tutorials/intermediate/seq2seq_translation_tutorial.html\n",
        "\n",
        "GRU文档：https://pytorch.org/docs/stable/generated/torch.nn.GRU.html#torch.nn.GRU\n"
      ]
    },
    {
      "cell_type": "markdown",
      "metadata": {
        "id": "-TW078ElfOZ7"
      },
      "source": [
        "## 模型创建"
      ]
    },
    {
      "cell_type": "code",
      "execution_count": 27,
      "metadata": {
        "id": "9tSyPPP2fOZ7",
        "outputId": "17f4baf6-6791-49b9-d9db-5294fe236581",
        "colab": {
          "base_uri": "https://localhost:8080/",
          "height": 258
        }
      },
      "outputs": [
        {
          "output_type": "stream",
          "name": "stdout",
          "text": [
            "use device Tesla K80 \n"
          ]
        },
        {
          "output_type": "error",
          "ename": "RuntimeError",
          "evalue": "ignored",
          "traceback": [
            "\u001b[0;31m---------------------------------------------------------------------------\u001b[0m",
            "\u001b[0;31mRuntimeError\u001b[0m                              Traceback (most recent call last)",
            "\u001b[0;32m<ipython-input-27-5903e14ab112>\u001b[0m in \u001b[0;36m<module>\u001b[0;34m()\u001b[0m\n\u001b[1;32m     37\u001b[0m     ]\n\u001b[1;32m     38\u001b[0m \u001b[0;34m\u001b[0m\u001b[0m\n\u001b[0;32m---> 39\u001b[0;31m \u001b[0mx\u001b[0m \u001b[0;34m=\u001b[0m \u001b[0mtorch\u001b[0m\u001b[0;34m.\u001b[0m\u001b[0mTensor\u001b[0m\u001b[0;34m(\u001b[0m\u001b[0mx\u001b[0m\u001b[0;34m)\u001b[0m\u001b[0;34m.\u001b[0m\u001b[0mlong\u001b[0m\u001b[0;34m(\u001b[0m\u001b[0;34m)\u001b[0m\u001b[0;34m.\u001b[0m\u001b[0mto\u001b[0m\u001b[0;34m(\u001b[0m\u001b[0mdevice\u001b[0m \u001b[0;34m=\u001b[0m \u001b[0mdevice\u001b[0m\u001b[0;34m)\u001b[0m\u001b[0;34m\u001b[0m\u001b[0;34m\u001b[0m\u001b[0m\n\u001b[0m\u001b[1;32m     40\u001b[0m \u001b[0;34m\u001b[0m\u001b[0m\n\u001b[1;32m     41\u001b[0m \u001b[0minput\u001b[0m \u001b[0;34m=\u001b[0m \u001b[0mx\u001b[0m\u001b[0;34m[\u001b[0m\u001b[0;34m:\u001b[0m\u001b[0;34m,\u001b[0m   \u001b[0;34m:\u001b[0m    \u001b[0;34m-\u001b[0m\u001b[0;36m1\u001b[0m\u001b[0;34m]\u001b[0m\u001b[0;34m.\u001b[0m\u001b[0mto\u001b[0m\u001b[0;34m(\u001b[0m\u001b[0mdevice\u001b[0m\u001b[0;34m=\u001b[0m\u001b[0mdevice\u001b[0m\u001b[0;34m)\u001b[0m\u001b[0;34m\u001b[0m\u001b[0;34m\u001b[0m\u001b[0m\n",
            "\u001b[0;31mRuntimeError\u001b[0m: Invalid device string: 'Tesla K80'"
          ]
        }
      ],
      "source": [
        "import torch\n",
        "import torch.nn as nn\n",
        "\n",
        "# torch.cuda.is_available\n",
        "device = torch.cuda.get_device_name() if torch.cuda.is_available() else \"cpu\"\n",
        "\n",
        "\n",
        "\n",
        "print(f\"use device {device} \")\n",
        "\n",
        "class Rnnlm(nn.Module):\n",
        "    def __init__(self,vocab_size=10000,wordvec_size=1000):\n",
        "        super(Rnnlm,self).__init__()\n",
        "        self.embedding = nn.Embedding(vocab_size,wordvec_size)\n",
        "        self.rnn = nn.LSTM(wordvec_size, 256 ,batch_first = True,bias=False)\n",
        "        self.affine = nn.Linear(256,vocab_size,bias=False)\n",
        "        self.softmax = nn.Softmax(dim=-1)\n",
        "        self.flatten = nn.Flatten(0,-2)\n",
        "\n",
        "    def forward(self,input,h_c):\n",
        "        embeded = self.embedding(input)\n",
        "        output = embeded\n",
        "\n",
        "\n",
        "        output, hc = self.rnn(output,h_c)\n",
        "        output = self.affine(output)\n",
        "        output = self.softmax(output)\n",
        "        output = self.flatten(output)\n",
        "        return output,hc\n",
        "\n",
        "\n",
        "    ## 测试模型\n",
        "x  = [\n",
        "        [1,2,3,4],\n",
        "        [5,6,7,8],\n",
        "        [9,10,11,12]\n",
        "    ]\n",
        "\n",
        "x = torch.Tensor(x).long().to(device = device)\n",
        "\n",
        "input = x[:,   :    -1].to(device=device)\n",
        "target =x[:,1  : ].to(device=device)\n",
        "\n",
        "print(input)\n",
        "\n",
        "\n",
        "\n",
        "\n",
        "\n",
        "\n",
        "#hiden = torch.zeros((1,3,5),dtype=torch.float32)\n",
        "\n",
        "\n",
        "\n",
        "# tmodel = Rnnlm(50,5).to(device = device)\n",
        "\n",
        "\n",
        "# target = torch.flatten(target)\n",
        "# criterion = torch.nn.NLLLoss()\n",
        "# optimizer = torch.optim.SGD(tmodel.parameters(),lr = 0.9)\n",
        "# for i in range(1000):\n",
        "#     hidden = None\n",
        "#     out ,hidden= tmodel(input,hidden)\n",
        "#     loss = criterion(out,target)\n",
        "\n",
        "#     print(loss.item())\n",
        "#     optimizer.zero_grad()\n",
        "#     loss.backward()\n",
        "#     optimizer.step()\n",
        "\n",
        "\n",
        "# embed = nn.Embedding(20,5)\n",
        "# input = embed(x)\n",
        "# print(f\"input.shape:{input.shape}\")\n",
        "\n",
        "# lstm = nn.LSTM(5,20)\n",
        "# c = None\n",
        "\n",
        "# output,c = lstm(input,None)\n",
        "\n",
        "# print(output.shape)\n",
        "# print(c)\n",
        "\n",
        "\n",
        "\n",
        "\n",
        "# print(f\"out.shape:{out.size()}\")\n",
        "\n",
        "# softmax = nn.Softmax(dim=-1)\n",
        "# test = torch.zeros((2,5,4),dtype=torch.float32)\n",
        "# test[:,:,3] = 1\n",
        "\n",
        "# test[0,2,0] = 3\n",
        "# print(test)\n",
        "# print(softmax(test))\n",
        "\n"
      ]
    },
    {
      "cell_type": "code",
      "execution_count": 17,
      "metadata": {
        "id": "TOVPaqfFfOZ-",
        "outputId": "c6bdfbf0-a66f-41dc-c960-36b56b398a33",
        "colab": {
          "base_uri": "https://localhost:8080/"
        }
      },
      "outputs": [
        {
          "output_type": "stream",
          "name": "stdout",
          "text": [
            "torch.return_types.topk(\n",
            "values=tensor([[0.6218, 0.3233, 0.0197, 0.0176, 0.0063]], device='cuda:0',\n",
            "       grad_fn=<TopkBackward0>),\n",
            "indices=tensor([[ 3, 10, 11,  7,  2]], device='cuda:0'))\n"
          ]
        }
      ],
      "source": [
        "a = torch.tensor([[2]]).to(device=device)\n",
        "h_c = None\n",
        "\n",
        "out, hc = tmodel.forward(a,None)\n",
        "print(out.topk(5))"
      ]
    },
    {
      "cell_type": "code",
      "execution_count": null,
      "metadata": {
        "id": "40n6eWlSfOZ-"
      },
      "outputs": [],
      "source": [
        "\n",
        "## 训练弄型\n",
        "def train(model:Rnnlm,criterion,optimizer,input,target,h = None):\n",
        "    optimizer.zero_grad()\n",
        "    pred ,h = model(input,h)\n",
        "    loss = criterion(pred)\n",
        "    loss.backfard()\n",
        "    optimizer.step()\n",
        "\n",
        "    return loss,h\n"
      ]
    },
    {
      "cell_type": "code",
      "execution_count": null,
      "metadata": {
        "id": "q9IByf6TfOZ_"
      },
      "outputs": [],
      "source": [
        "# def train_dataset(model:Rnnlm,\n",
        "#  criterion = nn.CrossEntropyLoss(),\n",
        "#  optimizer:torch.optim.Optimizer = None,\n",
        "#  input = None ,\n",
        "#  target = None\n",
        "#   max_iters = 100,\n",
        "#   batch_size = 500,\n",
        "#   time_size = 10 ):\n"
      ]
    },
    {
      "cell_type": "markdown",
      "metadata": {
        "id": "HdD5o7X5fOZ_"
      },
      "source": [
        "## 加载数据\n"
      ]
    },
    {
      "cell_type": "markdown",
      "metadata": {
        "id": "i4kDi-0cfOaB"
      },
      "source": [
        "### colab加载主公共模块"
      ]
    },
    {
      "cell_type": "code",
      "execution_count": 18,
      "metadata": {
        "id": "dVRS3QJzfOaB",
        "outputId": "d00fecb8-4ac0-4756-d718-ec658c10559c",
        "colab": {
          "base_uri": "https://localhost:8080/"
        }
      },
      "outputs": [
        {
          "output_type": "stream",
          "name": "stdout",
          "text": [
            "Drive already mounted at /content/drive; to attempt to forcibly remount, call drive.mount(\"/content/drive\", force_remount=True).\n"
          ]
        }
      ],
      "source": [
        "from google.colab import drive\n",
        "drive.mount('/content/drive')\n",
        "\n",
        "import sys\n",
        "sys.path.append(\"/content/drive/MyDrive/ml/nlp/\")"
      ]
    },
    {
      "cell_type": "markdown",
      "metadata": {
        "id": "7gciMLI9fOaC"
      },
      "source": [
        "### 本机环境中用当前前目录"
      ]
    },
    {
      "cell_type": "code",
      "execution_count": null,
      "metadata": {
        "id": "tHfxiXQgfOaC"
      },
      "outputs": [],
      "source": [
        "import sys\n",
        "sys.path.append(\"../\")"
      ]
    },
    {
      "cell_type": "code",
      "execution_count": 19,
      "metadata": {
        "id": "3gMgnXmRfOaC",
        "outputId": "c8983672-1539-44e9-ca7a-cb1f89cc0f5d",
        "colab": {
          "base_uri": "https://localhost:8080/"
        }
      },
      "outputs": [
        {
          "output_type": "stream",
          "name": "stdout",
          "text": [
            "corpus size 1000 ,vocabulary size : 10000, \n",
            "vocab_size = 10000 wordvec_size= 100 hidden_size = 100\n"
          ]
        },
        {
          "output_type": "execute_result",
          "data": {
            "text/plain": [
              "Rnnlm(\n",
              "  (embedding): Embedding(10000, 100)\n",
              "  (rnn): LSTM(100, 256, bias=False, batch_first=True)\n",
              "  (affine): Linear(in_features=256, out_features=10000, bias=False)\n",
              "  (softmax): Softmax(dim=-1)\n",
              "  (flatten): Flatten(start_dim=0, end_dim=-2)\n",
              ")"
            ]
          },
          "metadata": {},
          "execution_count": 19
        }
      ],
      "source": [
        "\n",
        "\n",
        "import sys\n",
        "\n",
        "import matplotlib.pyplot as plt\n",
        "import numpy as np\n",
        "from common.optimizer import SGD\n",
        "from dataset import ptb\n",
        "import time \n",
        "import math\n",
        "import numpy as np\n",
        "\n",
        "\n",
        "\n",
        "batch_size = 5\n",
        "\n",
        "time_size = 10\n",
        "\n",
        "wordvec_size = 100\n",
        "hidden_size=100\n",
        "\n",
        "lr = 0.1\n",
        "max_epoch = 100\n",
        "\n",
        "\n",
        "corpus , word_to_id,id_to_word = ptb.load_data('train')\n",
        "corpus_size = 1000\n",
        "\n",
        "\n",
        "#corpus = corpus[:corpus_size]\n",
        "vocab_size = len(word_to_id)\n",
        "xs = corpus[:-1]\n",
        "ts = corpus[1:]\n",
        "\n",
        "\n",
        "data_size = len(corpus)\n",
        "print(\"corpus size %d ,vocabulary size : %d, \" % (corpus_size,vocab_size))\n",
        "\n",
        "max_iters = data_size // (batch_size * time_size)\n",
        "time_idx = 0\n",
        "total_loss = 0\n",
        "\n",
        "\n",
        "loss_count = 0\n",
        "ppl_list = []\n",
        "\n",
        "\n",
        "print(f\"vocab_size = {vocab_size} wordvec_size= {wordvec_size} hidden_size = {hidden_size}\")\n",
        "\n",
        "\n",
        "\n",
        "device = torch.device('cuda:0' if torch.cuda.is_available() else 'cpu')\n",
        "\n",
        "model = Rnnlm(vocab_size,wordvec_size)\n",
        "model.to(device=device)\n",
        "\n",
        "optimizer = torch.optim.SGD(model.parameters(), lr=2)\n",
        "\n",
        "criterion = torch.nn.CrossEntropyLoss()\n",
        "\n",
        "\n",
        "model.train()\n",
        "\n",
        " \n",
        "\n"
      ]
    },
    {
      "cell_type": "markdown",
      "metadata": {
        "id": "nXjaD99LfOaD"
      },
      "source": [
        "## 训练数据读取\n",
        "\n",
        "\n",
        "\n",
        "\n"
      ]
    },
    {
      "cell_type": "code",
      "execution_count": 20,
      "metadata": {
        "id": "iKGtoAXgfOaD",
        "outputId": "b7f5add4-44ac-49ce-a9f4-a8dc30f7c6b9",
        "colab": {
          "base_uri": "https://localhost:8080/",
          "height": 240
        }
      },
      "outputs": [
        {
          "output_type": "error",
          "ename": "NameError",
          "evalue": "ignored",
          "traceback": [
            "\u001b[0;31m---------------------------------------------------------------------------\u001b[0m",
            "\u001b[0;31mNameError\u001b[0m                                 Traceback (most recent call last)",
            "\u001b[0;32m<ipython-input-20-40a2c3cd7ad1>\u001b[0m in \u001b[0;36m<module>\u001b[0;34m()\u001b[0m\n\u001b[1;32m     54\u001b[0m         \u001b[0;32mif\u001b[0m \u001b[0;34m(\u001b[0m\u001b[0miter\u001b[0m \u001b[0;34m%\u001b[0m \u001b[0meval_iterval\u001b[0m\u001b[0;34m)\u001b[0m \u001b[0;34m==\u001b[0m \u001b[0;36m0\u001b[0m\u001b[0;34m:\u001b[0m\u001b[0;34m\u001b[0m\u001b[0;34m\u001b[0m\u001b[0m\n\u001b[1;32m     55\u001b[0m             \u001b[0mppl\u001b[0m \u001b[0;34m=\u001b[0m \u001b[0mmath\u001b[0m\u001b[0;34m.\u001b[0m\u001b[0mexp\u001b[0m\u001b[0;34m(\u001b[0m\u001b[0mtotal_loss\u001b[0m \u001b[0;34m/\u001b[0m \u001b[0mloss_count\u001b[0m\u001b[0;34m)\u001b[0m\u001b[0;34m\u001b[0m\u001b[0;34m\u001b[0m\u001b[0m\n\u001b[0;32m---> 56\u001b[0;31m             \u001b[0mprint\u001b[0m\u001b[0;34m(\u001b[0m\u001b[0;34mf\"epoch  {epoch }/{max_epoch}\\t|\\t time :{time.time() - start_time}[s] \\t|\\t perplexity:{ppl}\"\u001b[0m\u001b[0;34m)\u001b[0m\u001b[0;34m\u001b[0m\u001b[0;34m\u001b[0m\u001b[0m\n\u001b[0m\u001b[1;32m     57\u001b[0m             \u001b[0mtotal_loss\u001b[0m \u001b[0;34m=\u001b[0m \u001b[0;36m0\u001b[0m\u001b[0;34m\u001b[0m\u001b[0;34m\u001b[0m\u001b[0m\n\u001b[1;32m     58\u001b[0m             \u001b[0mloss_count\u001b[0m \u001b[0;34m=\u001b[0m \u001b[0;36m0\u001b[0m\u001b[0;34m\u001b[0m\u001b[0;34m\u001b[0m\u001b[0m\n",
            "\u001b[0;31mNameError\u001b[0m: name 'start_time' is not defined"
          ]
        }
      ],
      "source": [
        "import numpy as np\n",
        "import time\n",
        "\n",
        "time_size = 20\n",
        "batch_size = 200\n",
        "\n",
        "max_grad = 0.25\n",
        "criterion = torch.nn.NLLLoss()\n",
        "\n",
        "\n",
        "optimizer = torch.optim.SGD(model.parameters(),lr=0.8)\n",
        "\n",
        "eval_iterval = 20\n",
        "for epoch in range(max_epoch):\n",
        "\n",
        "    \n",
        "   \n",
        "    for  iter in range(max_iters -1):\n",
        "\n",
        "\n",
        "        start_idx = iter * (batch_size * time_size)\n",
        "        end_idx = (iter + 1) * (batch_size * time_size)\n",
        "\n",
        "        batch_x = xs[start_idx:end_idx]\n",
        "        batch_t = ts[start_idx:end_idx]\n",
        "\n",
        "\n",
        "        # batch_x = xs[0 : 500 * time_size]\n",
        "        # batch_t = ts[0 : 500 * time_size]\n",
        "\n",
        " \n",
        "        batch_x = batch_x.reshape(batch_size,time_size) \n",
        "        #batch_t = batch_t.reshape(batch_size,time_size)\n",
        "\n",
        "\n",
        "        batch_x = torch.from_numpy(batch_x).to(device=device)\n",
        "        batch_t = torch.from_numpy(batch_t).to(device=device)\n",
        "\n",
        "\n",
        "        h = None\n",
        "        model.zero_grad()\n",
        "        pred  ,h = model(batch_x,h)\n",
        "        loss = criterion(pred,batch_t)\n",
        "        loss.backward()\n",
        "        \n",
        "      #   params = model.parameters()\n",
        "\n",
        "      #   for param in params:\n",
        "      # ##    print(param.grad.data)\n",
        "      #     param.data.add_(param.grad.data, alpha= -1)\n",
        "      \n",
        "       # loss , h = train(model,criterion,optimizer,batch_x,batch_t,h,max_grad)\n",
        "\n",
        "      #  print(loss)\n",
        "\n",
        "        total_loss += loss.item()\n",
        "        loss_count += 1\n",
        "        if (iter % eval_iterval) == 0:\n",
        "            ppl = math.exp(total_loss / loss_count)\n",
        "            print(f\"epoch  {epoch }/{max_epoch}\\t|\\t time :{time.time() - start_time}[s] \\t|\\t perplexity:{ppl}\")\n",
        "            total_loss = 0\n",
        "            loss_count = 0"
      ]
    },
    {
      "cell_type": "code",
      "execution_count": 23,
      "metadata": {
        "id": "-4O3ItLsfOaE",
        "outputId": "18eb75f6-1290-4000-935c-16169bd2dfd2",
        "colab": {
          "base_uri": "https://localhost:8080/",
          "height": 425
        }
      },
      "outputs": [
        {
          "output_type": "error",
          "ename": "RuntimeError",
          "evalue": "ignored",
          "traceback": [
            "\u001b[0;31m---------------------------------------------------------------------------\u001b[0m",
            "\u001b[0;31mRuntimeError\u001b[0m                              Traceback (most recent call last)",
            "\u001b[0;32m<ipython-input-23-f0f75abd3be6>\u001b[0m in \u001b[0;36m<module>\u001b[0;34m()\u001b[0m\n\u001b[1;32m      5\u001b[0m \u001b[0;34m\u001b[0m\u001b[0m\n\u001b[1;32m      6\u001b[0m \u001b[0mmodel\u001b[0m \u001b[0;34m=\u001b[0m \u001b[0mRnnlm\u001b[0m\u001b[0;34m(\u001b[0m\u001b[0;36m100\u001b[0m\u001b[0;34m,\u001b[0m\u001b[0mwordvec_size\u001b[0m\u001b[0;34m)\u001b[0m\u001b[0;34m\u001b[0m\u001b[0;34m\u001b[0m\u001b[0m\n\u001b[0;32m----> 7\u001b[0;31m \u001b[0mmodel\u001b[0m\u001b[0;34m.\u001b[0m\u001b[0mto\u001b[0m\u001b[0;34m(\u001b[0m\u001b[0mdevice\u001b[0m\u001b[0;34m=\u001b[0m\u001b[0mdevice\u001b[0m\u001b[0;34m)\u001b[0m\u001b[0;34m\u001b[0m\u001b[0;34m\u001b[0m\u001b[0m\n\u001b[0m\u001b[1;32m      8\u001b[0m \u001b[0;34m\u001b[0m\u001b[0m\n\u001b[1;32m      9\u001b[0m \u001b[0mbatch_size\u001b[0m \u001b[0;34m=\u001b[0m \u001b[0;36m200\u001b[0m\u001b[0;34m\u001b[0m\u001b[0;34m\u001b[0m\u001b[0m\n",
            "\u001b[0;32m/usr/local/lib/python3.7/dist-packages/torch/nn/modules/module.py\u001b[0m in \u001b[0;36mto\u001b[0;34m(self, *args, **kwargs)\u001b[0m\n\u001b[1;32m    905\u001b[0m             \u001b[0;32mreturn\u001b[0m \u001b[0mt\u001b[0m\u001b[0;34m.\u001b[0m\u001b[0mto\u001b[0m\u001b[0;34m(\u001b[0m\u001b[0mdevice\u001b[0m\u001b[0;34m,\u001b[0m \u001b[0mdtype\u001b[0m \u001b[0;32mif\u001b[0m \u001b[0mt\u001b[0m\u001b[0;34m.\u001b[0m\u001b[0mis_floating_point\u001b[0m\u001b[0;34m(\u001b[0m\u001b[0;34m)\u001b[0m \u001b[0;32mor\u001b[0m \u001b[0mt\u001b[0m\u001b[0;34m.\u001b[0m\u001b[0mis_complex\u001b[0m\u001b[0;34m(\u001b[0m\u001b[0;34m)\u001b[0m \u001b[0;32melse\u001b[0m \u001b[0;32mNone\u001b[0m\u001b[0;34m,\u001b[0m \u001b[0mnon_blocking\u001b[0m\u001b[0;34m)\u001b[0m\u001b[0;34m\u001b[0m\u001b[0;34m\u001b[0m\u001b[0m\n\u001b[1;32m    906\u001b[0m \u001b[0;34m\u001b[0m\u001b[0m\n\u001b[0;32m--> 907\u001b[0;31m         \u001b[0;32mreturn\u001b[0m \u001b[0mself\u001b[0m\u001b[0;34m.\u001b[0m\u001b[0m_apply\u001b[0m\u001b[0;34m(\u001b[0m\u001b[0mconvert\u001b[0m\u001b[0;34m)\u001b[0m\u001b[0;34m\u001b[0m\u001b[0;34m\u001b[0m\u001b[0m\n\u001b[0m\u001b[1;32m    908\u001b[0m \u001b[0;34m\u001b[0m\u001b[0m\n\u001b[1;32m    909\u001b[0m     def register_backward_hook(\n",
            "\u001b[0;32m/usr/local/lib/python3.7/dist-packages/torch/nn/modules/module.py\u001b[0m in \u001b[0;36m_apply\u001b[0;34m(self, fn)\u001b[0m\n\u001b[1;32m    576\u001b[0m     \u001b[0;32mdef\u001b[0m \u001b[0m_apply\u001b[0m\u001b[0;34m(\u001b[0m\u001b[0mself\u001b[0m\u001b[0;34m,\u001b[0m \u001b[0mfn\u001b[0m\u001b[0;34m)\u001b[0m\u001b[0;34m:\u001b[0m\u001b[0;34m\u001b[0m\u001b[0;34m\u001b[0m\u001b[0m\n\u001b[1;32m    577\u001b[0m         \u001b[0;32mfor\u001b[0m \u001b[0mmodule\u001b[0m \u001b[0;32min\u001b[0m \u001b[0mself\u001b[0m\u001b[0;34m.\u001b[0m\u001b[0mchildren\u001b[0m\u001b[0;34m(\u001b[0m\u001b[0;34m)\u001b[0m\u001b[0;34m:\u001b[0m\u001b[0;34m\u001b[0m\u001b[0;34m\u001b[0m\u001b[0m\n\u001b[0;32m--> 578\u001b[0;31m             \u001b[0mmodule\u001b[0m\u001b[0;34m.\u001b[0m\u001b[0m_apply\u001b[0m\u001b[0;34m(\u001b[0m\u001b[0mfn\u001b[0m\u001b[0;34m)\u001b[0m\u001b[0;34m\u001b[0m\u001b[0;34m\u001b[0m\u001b[0m\n\u001b[0m\u001b[1;32m    579\u001b[0m \u001b[0;34m\u001b[0m\u001b[0m\n\u001b[1;32m    580\u001b[0m         \u001b[0;32mdef\u001b[0m \u001b[0mcompute_should_use_set_data\u001b[0m\u001b[0;34m(\u001b[0m\u001b[0mtensor\u001b[0m\u001b[0;34m,\u001b[0m \u001b[0mtensor_applied\u001b[0m\u001b[0;34m)\u001b[0m\u001b[0;34m:\u001b[0m\u001b[0;34m\u001b[0m\u001b[0;34m\u001b[0m\u001b[0m\n",
            "\u001b[0;32m/usr/local/lib/python3.7/dist-packages/torch/nn/modules/module.py\u001b[0m in \u001b[0;36m_apply\u001b[0;34m(self, fn)\u001b[0m\n\u001b[1;32m    599\u001b[0m             \u001b[0;31m# `with torch.no_grad():`\u001b[0m\u001b[0;34m\u001b[0m\u001b[0;34m\u001b[0m\u001b[0;34m\u001b[0m\u001b[0m\n\u001b[1;32m    600\u001b[0m             \u001b[0;32mwith\u001b[0m \u001b[0mtorch\u001b[0m\u001b[0;34m.\u001b[0m\u001b[0mno_grad\u001b[0m\u001b[0;34m(\u001b[0m\u001b[0;34m)\u001b[0m\u001b[0;34m:\u001b[0m\u001b[0;34m\u001b[0m\u001b[0;34m\u001b[0m\u001b[0m\n\u001b[0;32m--> 601\u001b[0;31m                 \u001b[0mparam_applied\u001b[0m \u001b[0;34m=\u001b[0m \u001b[0mfn\u001b[0m\u001b[0;34m(\u001b[0m\u001b[0mparam\u001b[0m\u001b[0;34m)\u001b[0m\u001b[0;34m\u001b[0m\u001b[0;34m\u001b[0m\u001b[0m\n\u001b[0m\u001b[1;32m    602\u001b[0m             \u001b[0mshould_use_set_data\u001b[0m \u001b[0;34m=\u001b[0m \u001b[0mcompute_should_use_set_data\u001b[0m\u001b[0;34m(\u001b[0m\u001b[0mparam\u001b[0m\u001b[0;34m,\u001b[0m \u001b[0mparam_applied\u001b[0m\u001b[0;34m)\u001b[0m\u001b[0;34m\u001b[0m\u001b[0;34m\u001b[0m\u001b[0m\n\u001b[1;32m    603\u001b[0m             \u001b[0;32mif\u001b[0m \u001b[0mshould_use_set_data\u001b[0m\u001b[0;34m:\u001b[0m\u001b[0;34m\u001b[0m\u001b[0;34m\u001b[0m\u001b[0m\n",
            "\u001b[0;32m/usr/local/lib/python3.7/dist-packages/torch/nn/modules/module.py\u001b[0m in \u001b[0;36mconvert\u001b[0;34m(t)\u001b[0m\n\u001b[1;32m    903\u001b[0m                 return t.to(device, dtype if t.is_floating_point() or t.is_complex() else None,\n\u001b[1;32m    904\u001b[0m                             non_blocking, memory_format=convert_to_format)\n\u001b[0;32m--> 905\u001b[0;31m             \u001b[0;32mreturn\u001b[0m \u001b[0mt\u001b[0m\u001b[0;34m.\u001b[0m\u001b[0mto\u001b[0m\u001b[0;34m(\u001b[0m\u001b[0mdevice\u001b[0m\u001b[0;34m,\u001b[0m \u001b[0mdtype\u001b[0m \u001b[0;32mif\u001b[0m \u001b[0mt\u001b[0m\u001b[0;34m.\u001b[0m\u001b[0mis_floating_point\u001b[0m\u001b[0;34m(\u001b[0m\u001b[0;34m)\u001b[0m \u001b[0;32mor\u001b[0m \u001b[0mt\u001b[0m\u001b[0;34m.\u001b[0m\u001b[0mis_complex\u001b[0m\u001b[0;34m(\u001b[0m\u001b[0;34m)\u001b[0m \u001b[0;32melse\u001b[0m \u001b[0;32mNone\u001b[0m\u001b[0;34m,\u001b[0m \u001b[0mnon_blocking\u001b[0m\u001b[0;34m)\u001b[0m\u001b[0;34m\u001b[0m\u001b[0;34m\u001b[0m\u001b[0m\n\u001b[0m\u001b[1;32m    906\u001b[0m \u001b[0;34m\u001b[0m\u001b[0m\n\u001b[1;32m    907\u001b[0m         \u001b[0;32mreturn\u001b[0m \u001b[0mself\u001b[0m\u001b[0;34m.\u001b[0m\u001b[0m_apply\u001b[0m\u001b[0;34m(\u001b[0m\u001b[0mconvert\u001b[0m\u001b[0;34m)\u001b[0m\u001b[0;34m\u001b[0m\u001b[0;34m\u001b[0m\u001b[0m\n",
            "\u001b[0;31mRuntimeError\u001b[0m: CUDA error: device-side assert triggered\nCUDA kernel errors might be asynchronously reported at some other API call,so the stacktrace below might be incorrect.\nFor debugging consider passing CUDA_LAUNCH_BLOCKING=1."
          ]
        }
      ],
      "source": [
        "import numpy as np\n",
        "import time\n",
        "\n",
        "\n",
        "\n",
        "model = Rnnlm(100,wordvec_size)\n",
        "model.to(device=device)\n",
        "\n",
        "batch_size = 200\n",
        "time_size = 10\n",
        "max_grad = 0.25\n",
        "criterion = torch.nn.NLLLoss()\n",
        "\n",
        "\n",
        "adam = torch.optim.Adam(model.parameters(),lr=1)\n",
        "\n",
        "eval_iterval = 20\n",
        "\n",
        "ppl_list = []\n",
        "\n",
        "loss_list = []\n",
        "loss = 0\n",
        "h = None\n",
        "for epoch in range(max_epoch):\n",
        "\n",
        "    \n",
        "   \n",
        "    for  iter in range(max_iters -1):\n",
        "\n",
        "\n",
        "        # start_idx = iter * (batch_size * time_size)\n",
        "        # end_idx = (iter + 1) * (batch_size * time_size)\n",
        "\n",
        "        start_idx = 0 * (batch_size * time_size)\n",
        "        end_idx = (0 + 1) * (batch_size * time_size)\n",
        "\n",
        "        batch_x = xs[start_idx:end_idx]\n",
        "        batch_t = ts[start_idx:end_idx]\n",
        "\n",
        "\n",
        "        # batch_x = xs[0 : 500 * time_size]\n",
        "        # batch_t = ts[0 : 500 * time_size]\n",
        "\n",
        " \n",
        "        batch_x = batch_x.reshape(batch_size,time_size) \n",
        "        #batch_t = batch_t.reshape(batch_size,time_size)\n",
        "\n",
        "\n",
        "        batch_x = torch.from_numpy(batch_x).to(device=device)\n",
        "        batch_t = torch.from_numpy(batch_t).to(device=device)\n",
        "\n",
        "        adam.zero_grad()\n",
        "        pred  ,h = model(batch_x,h)\n",
        "        l  = criterion(pred,batch_t)\n",
        "        l.backward()\n",
        "        adam.step()\n",
        "\n",
        "        total_loss += l\n",
        "\n",
        "       # h = None\n",
        "        # optimizer.zero_grad()\n",
        "        # model.zero_grad()\n",
        "        # pred  ,h = model(batch_x,h)\n",
        "        # l  = criterion(pred,batch_t)\n",
        "        # total_loss += l.item()\n",
        "        # loss += l\n",
        "\n",
        "        #params = model.parameters()\n",
        "\n",
        "    #     for param in params:\n",
        "    #   ##    print(param.grad.data)\n",
        "    #       param.data.add_(param.grad.data, alpha= -1)\n",
        "      \n",
        "       # loss , h = train(model,criterion,optimizer,batch_x,batch_t,h,max_grad)\n",
        "\n",
        "      #  print(loss)\n",
        "      \n",
        "        \n",
        "\n",
        "        # total_loss += loss.item()\n",
        "        loss_count += 1\n",
        "        if (iter % eval_iterval) == 0:\n",
        "\n",
        "            optimizer.zero_grad()\n",
        "            loss.backward()\n",
        "            optimizer.step()\n",
        "            loss ,h = 0,None\n",
        "\n",
        "            ppl = np.exp(total_loss / loss_count)\n",
        "            print(f\"epoch  {epoch }/{max_epoch}\\t|\\t time :{time.time() - start_time}[s] \\t|\\t perplexity:{ppl}\")\n",
        "            \n",
        "#            ppl_list.append(ppl)\n",
        "            avg_loss = total_loss / loss_count\n",
        "            loss_list.append(avg_loss)\n",
        "            total_loss , loss_count = 0, 0\n"
      ]
    },
    {
      "cell_type": "code",
      "execution_count": null,
      "metadata": {
        "id": "zWx9Ri9MfOaF",
        "outputId": "2909fdd0-c0bf-447f-ed73-d1bcd9356ed3"
      },
      "outputs": [
        {
          "data": {
            "image/png": "[encoded data removed]",
            "text/plain": [
              "<Figure size 432x288 with 1 Axes>"
            ]
          },
          "metadata": {
            "needs_background": "light"
          },
          "output_type": "display_data"
        }
      ],
      "source": [
        "import matplotlib.pyplot as plt\n",
        "import numpy as np\n",
        "\n",
        "\n",
        "x = np.arange(len(loss_list))\n",
        "plt.plot(x,loss_list)\n",
        "plt.show()"
      ]
    },
    {
      "cell_type": "code",
      "execution_count": null,
      "metadata": {
        "id": "CuEo9duyfOaF",
        "outputId": "4e29d4ba-bc37-4f11-9fff-a47044d69a0b"
      },
      "outputs": [
        {
          "name": "stdout",
          "output_type": "stream",
          "text": [
            "tensor([[1.6537e-03, 5.0106e-03, 6.9797e-03, 4.6286e-03, 1.9606e-03, 7.5650e-04,\n",
            "         7.9434e-01, 2.5173e-02, 3.2794e-03, 1.2473e-03, 3.6444e-03, 2.3564e-03,\n",
            "         5.1677e-03, 1.6386e-03, 3.0004e-03, 1.1903e-03, 1.6400e-03, 4.9065e-03,\n",
            "         9.4263e-04, 1.6097e-03, 1.2935e-03, 1.3746e-03, 1.2469e-03, 1.4807e-03,\n",
            "         6.8199e-04, 1.9540e-03, 1.3096e-03, 4.9108e-03, 7.2063e-04, 1.5059e-03,\n",
            "         2.0091e-03, 2.1672e-03, 2.1353e-03, 9.8396e-04, 3.4713e-03, 1.2766e-03,\n",
            "         1.5655e-03, 1.3207e-03, 2.6648e-03, 1.5454e-03, 1.2041e-03, 8.7829e-04,\n",
            "         1.0790e-03, 2.0018e-03, 2.1206e-03, 6.7047e-04, 1.8060e-03, 1.7785e-03,\n",
            "         1.4840e-03, 1.3894e-03, 1.5312e-03, 1.6352e-03, 1.4807e-03, 1.4497e-03,\n",
            "         1.6310e-03, 1.5739e-03, 1.5879e-03, 1.4768e-03, 1.5889e-03, 1.2662e-03,\n",
            "         1.6382e-03, 1.4607e-03, 1.6132e-03, 1.8467e-03, 1.5962e-03, 1.2794e-03,\n",
            "         1.7894e-03, 1.5789e-03, 1.6658e-03, 1.7412e-03, 1.7732e-03, 1.6717e-03,\n",
            "         1.3683e-03, 1.4819e-03, 1.3830e-03, 1.3557e-03, 1.5209e-03, 1.5131e-03,\n",
            "         1.7111e-03, 1.9341e-03, 1.6199e-03, 1.8298e-03, 1.4657e-03, 1.4100e-03,\n",
            "         1.3700e-03, 1.5641e-03, 1.3131e-03, 1.7027e-03, 1.5436e-03, 1.9582e-03,\n",
            "         1.5681e-03, 1.5725e-03, 1.4654e-03, 1.6740e-03, 1.6792e-03, 1.5498e-03,\n",
            "         1.5295e-03, 1.7217e-03, 1.5589e-03, 1.5981e-03]],\n",
            "       grad_fn=<ReshapeAliasBackward0>)\n",
            "torch.return_types.topk(\n",
            "values=tensor([[0.7943, 0.0252, 0.0070, 0.0052, 0.0050, 0.0049]],\n",
            "       grad_fn=<TopkBackward0>),\n",
            "indices=tensor([[ 6,  7,  2, 12,  1, 27]]))\n"
          ]
        }
      ],
      "source": [
        "corpus[0:20]\n",
        "\n",
        "input = torch.Tensor([[5]]).long()\n",
        "tt,h = model.forward(input,None)\n",
        "print(tt)\n",
        "print(tt.topk(6))\n"
      ]
    },
    {
      "cell_type": "markdown",
      "metadata": {
        "id": "ZQUK-npbfOaF"
      },
      "source": [
        "## 保存模型"
      ]
    },
    {
      "cell_type": "code",
      "execution_count": null,
      "metadata": {
        "id": "qV4JXicrfOaG"
      },
      "outputs": [],
      "source": [
        "path = \"/content/drive/MyDrive/ml/nlp/lstm-ptb.pth\""
      ]
    },
    {
      "cell_type": "code",
      "execution_count": null,
      "metadata": {
        "id": "J5v1d50BfOaG"
      },
      "outputs": [],
      "source": [
        "torch.save(model.state_dict(),path)\n",
        "\n"
      ]
    },
    {
      "cell_type": "markdown",
      "metadata": {
        "id": "qYE_SRJBfOaG"
      },
      "source": [
        "## 加载模型"
      ]
    },
    {
      "cell_type": "code",
      "execution_count": null,
      "metadata": {
        "id": "aju0gz19fOaG"
      },
      "outputs": [],
      "source": [
        "model.load_state_dict(torch.load(path))"
      ]
    },
    {
      "cell_type": "markdown",
      "metadata": {
        "id": "0dIiMZiyfOaG"
      },
      "source": [
        "## 测试"
      ]
    },
    {
      "cell_type": "code",
      "execution_count": null,
      "metadata": {
        "id": "UuWClnU4fOaH"
      },
      "outputs": [],
      "source": [
        "from common.util import most_similar\n",
        "\n",
        "\n",
        "# ## CBOW 模型的评价\n",
        "\n",
        "# print(model.inEmbedding.weight.shape)\n",
        "\n",
        "\n",
        "word_vecs = model.embedding.weight.detach().to(device = \"cpu\").numpy()\n",
        "\n",
        "querys = ['you','year','car','toyota']\n",
        "\n",
        "for query in querys:\n",
        "  most_similar(query,word_to_id,id_to_word,word_vecs)"
      ]
    }
  ],
  "metadata": {
    "interpreter": {
      "hash": "fe85713bd73e29e553e0fe93aab7a5c1beebd30dbde9209efd93f425af696249"
    },
    "kernelspec": {
      "display_name": "Python 3.8.12 ('language')",
      "language": "python",
      "name": "python3"
    },
    "language_info": {
      "codemirror_mode": {
        "name": "ipython",
        "version": 3
      },
      "file_extension": ".py",
      "mimetype": "text/x-python",
      "name": "python",
      "nbconvert_exporter": "python",
      "pygments_lexer": "ipython3",
      "version": "3.8.12"
    },
    "orig_nbformat": 4,
    "colab": {
      "name": "torch_chepter_6_gate_rnn.ipynb",
      "provenance": []
    },
    "accelerator": "GPU"
  },
  "nbformat": 4,
  "nbformat_minor": 0
}